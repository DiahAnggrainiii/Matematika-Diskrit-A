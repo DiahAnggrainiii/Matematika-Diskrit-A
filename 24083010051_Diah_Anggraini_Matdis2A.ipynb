{
  "nbformat": 4,
  "nbformat_minor": 0,
  "metadata": {
    "colab": {
      "provenance": []
    },
    "kernelspec": {
      "name": "python3",
      "display_name": "Python 3"
    },
    "language_info": {
      "name": "python"
    }
  },
  "cells": [
    {
      "cell_type": "code",
      "source": [
        "# Nama    : Diah Anggraini\n",
        "# NPM     : 24083010051\n",
        "# Mata Kuliah : Matematika Diskrit A"
      ],
      "metadata": {
        "id": "3IYVAYudG93h"
      },
      "execution_count": 24,
      "outputs": []
    },
    {
      "cell_type": "code",
      "source": [
        "import pandas as pd\n",
        "import random\n",
        "import math"
      ],
      "metadata": {
        "id": "unm8TUXpAGC5"
      },
      "execution_count": 11,
      "outputs": []
    },
    {
      "cell_type": "code",
      "source": [
        "n_values_1 = sorted(random.sample(range(0, 1001), 10))\n",
        "\n",
        "rows1 = []\n",
        "for n in n_values_1:\n",
        "    sisi_kiri = sum(2*k-1 for k in range(1, n+1))\n",
        "    sisi_kanan = n**2\n",
        "    pernyataan = (sisi_kiri == sisi_kanan)\n",
        "    rows1.append([n, sisi_kiri, sisi_kanan, pernyataan])\n",
        "\n",
        "df1 = pd.DataFrame(rows1, columns=[\"n\",\"Sisi_Kiri\",\"Sisi_Kanan\",\"Pernyataan_Benar?\"])\n",
        "\n",
        "print(\"=== No.1: 1+3+5+...(2n-1)=n^2 ===\")\n",
        "print(df1)"
      ],
      "metadata": {
        "colab": {
          "base_uri": "https://localhost:8080/"
        },
        "id": "mphVLRKsBGlC",
        "outputId": "1ec1288d-b79d-442b-c837-b4e8d3189fd6"
      },
      "execution_count": 12,
      "outputs": [
        {
          "output_type": "stream",
          "name": "stdout",
          "text": [
            "=== No.1: 1+3+5+...(2n-1)=n^2 ===\n",
            "     n  Sisi_Kiri  Sisi_Kanan  Pernyataan_Benar?\n",
            "0   23        529         529               True\n",
            "1   46       2116        2116               True\n",
            "2   62       3844        3844               True\n",
            "3  346     119716      119716               True\n",
            "4  454     206116      206116               True\n",
            "5  497     247009      247009               True\n",
            "6  499     249001      249001               True\n",
            "7  615     378225      378225               True\n",
            "8  702     492804      492804               True\n",
            "9  881     776161      776161               True\n"
          ]
        }
      ]
    },
    {
      "cell_type": "markdown",
      "source": [
        "Penjelasan :\n",
        "Output tersebut menunjukkan bahwa untuk sepuluh nilai acak n mulai dari 23 hingga 881, nilai sisi kiri berupa penjumlahan bilangan ganjil pertama hingga suku ke-n selalu sama dengan sisi kanan yaitu n^2. Baik pada nilai n yang relatif kecil (23, 46, 62) maupun pada nilai yang besar (346, 454, 615, 702, 881), hasilnya konsisten menunjukkan kesetaraan. Sehingga kesimpulan yang bisa diambil adalah rumus 1+3+5+…+(2n−1)=n^2 benar untuk semua nilai n yang diuji, dan mendukung bahwa rumus ini berlaku umum untuk n>=0."
      ],
      "metadata": {
        "id": "RbVL-Qi5HmoL"
      }
    },
    {
      "cell_type": "code",
      "source": [
        "n_values_5 = sorted(random.sample(range(-10, 101), 10))\n",
        "\n",
        "rows5 = []\n",
        "for n in n_values_5:\n",
        "    sisi_kiri = 2**n\n",
        "    sisi_kanan = n**2\n",
        "    pernyataan = (sisi_kiri > sisi_kanan)\n",
        "    rows5.append([n, sisi_kiri, sisi_kanan, pernyataan])\n",
        "\n",
        "df5 = pd.DataFrame(rows5, columns=[\"n\",\"Sisi_Kiri (2^n)\",\"Sisi_Kanan (n^2)\",\"Pernyataan_Benar?\"])\n",
        "\n",
        "print(\"\\n=== No.5: 2^n > n^2 ===\")\n",
        "print(df5)"
      ],
      "metadata": {
        "colab": {
          "base_uri": "https://localhost:8080/"
        },
        "id": "DkqQn43WBKS3",
        "outputId": "918ad84d-8850-4fec-aba7-baeedbde7d79"
      },
      "execution_count": 27,
      "outputs": [
        {
          "output_type": "stream",
          "name": "stdout",
          "text": [
            "\n",
            "=== No.5: 2^n > n^2 ===\n",
            "    n                 Sisi_Kiri (2^n)  Sisi_Kanan (n^2)  Pernyataan_Benar?\n",
            "0  -5                         0.03125                25              False\n",
            "1   0                               1                 0               True\n",
            "2   6                              64                36               True\n",
            "3  33                      8589934592              1089               True\n",
            "4  36                     68719476736              1296               True\n",
            "5  40                   1099511627776              1600               True\n",
            "6  80       1208925819614629174706176              6400               True\n",
            "7  81       2417851639229258349412352              6561               True\n",
            "8  91    2475880078570760549798248448              8281               True\n",
            "9  99  633825300114114700748351602688              9801               True\n"
          ]
        }
      ]
    },
    {
      "cell_type": "markdown",
      "source": [
        "Penjelasan :\n",
        "Output tersebut menunjukkan bahwa untuk n negatif seperti –5, nilai 2^n jauh lebih kecil dibandingkan n^2 sehingga pernyataannya salah. Sebaliknya, mulai dari n = 0 dan pada nilai-nilai positif yang cukup besar seperti 6, 33, 36, 40, 80, 81, 91, dan 99, nilai 2^n jauh melampaui n^2 sehingga pernyataan 2^n > n^2 selalu benar. Sehingga kesimpulan yang bisa diambil adalah pernyataan ini salah untuk n negatif tetapi benar untuk n = 0 dan seluruh nilai n positif yang besar."
      ],
      "metadata": {
        "id": "zeOUHALrNIpo"
      }
    }
  ]
}