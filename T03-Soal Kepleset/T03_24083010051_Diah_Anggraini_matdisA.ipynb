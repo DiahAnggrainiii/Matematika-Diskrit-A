{
  "nbformat": 4,
  "nbformat_minor": 0,
  "metadata": {
    "colab": {
      "provenance": []
    },
    "kernelspec": {
      "name": "python3",
      "display_name": "Python 3"
    },
    "language_info": {
      "name": "python"
    }
  },
  "cells": [
    {
      "cell_type": "code",
      "source": [
        "# Nama   : Diah Anggraini\n",
        "# NPM    : 24083010051\n",
        "# Matkul : Matematika Diskrit A"
      ],
      "metadata": {
        "id": "G4m4n8GCN0Iq"
      },
      "execution_count": 16,
      "outputs": []
    },
    {
      "cell_type": "code",
      "source": [
        "print(\"SOAL 1: n^2 - n = n(n-1) selalu dapat dibagi habis oleh (n-1)?\")\n",
        "print()\n",
        "print(f\"{'n':<4}{'SisiKiri(n^2-n)':>18}{'SisiKanan(n*(n-1))':>24}{'Pembagi(n-1)':>15}{'Pernyataan_Benar?':>20}{'Catatan':>18}\")\n",
        "\n",
        "for n in range(-5, 11):\n",
        "    if n == 0:\n",
        "        continue\n",
        "    sisi_kiri  = n*n - n\n",
        "    sisi_kanan = n*(n-1)\n",
        "    pembagi    = n - 1\n",
        "\n",
        "    if pembagi == 0:\n",
        "        pernyataan_benar = False\n",
        "        catatan = \"pembagi 0\"\n",
        "    else:\n",
        "        pernyataan_benar = (sisi_kiri % pembagi == 0)\n",
        "        catatan = \"\"\n",
        "\n",
        "    print(f\"{n:<4}{sisi_kiri:>18}{sisi_kanan:>24}{pembagi:>15}{str(pernyataan_benar):>20}{catatan:>18}\")"
      ],
      "metadata": {
        "colab": {
          "base_uri": "https://localhost:8080/"
        },
        "id": "aYXnZ13DLY7B",
        "outputId": "9b259727-3395-486b-b87a-e9b0fd9cc18b"
      },
      "execution_count": 14,
      "outputs": [
        {
          "output_type": "stream",
          "name": "stdout",
          "text": [
            "SOAL 1: n^2 - n = n(n-1) selalu dapat dibagi habis oleh (n-1)?\n",
            "\n",
            "n      SisiKiri(n^2-n)      SisiKanan(n*(n-1))   Pembagi(n-1)   Pernyataan_Benar?           Catatan\n",
            "-5                  30                      30             -6                True                  \n",
            "-4                  20                      20             -5                True                  \n",
            "-3                  12                      12             -4                True                  \n",
            "-2                   6                       6             -3                True                  \n",
            "-1                   2                       2             -2                True                  \n",
            "1                    0                       0              0               False         pembagi 0\n",
            "2                    2                       2              1                True                  \n",
            "3                    6                       6              2                True                  \n",
            "4                   12                      12              3                True                  \n",
            "5                   20                      20              4                True                  \n",
            "6                   30                      30              5                True                  \n",
            "7                   42                      42              6                True                  \n",
            "8                   56                      56              7                True                  \n",
            "9                   72                      72              8                True                  \n",
            "10                  90                      90              9                True                  \n"
          ]
        }
      ]
    },
    {
      "cell_type": "markdown",
      "source": [
        "Penjelasan : Hasilnya menunjukkan kalau untuk semua angka (n) kecuali (n = 1), nilai (n^2 - n) memang bisa dibagi habis oleh ((n - 1)), jadi hasilnya **benar**. Tapi saat (n = 1), pembaginya jadi nol sehingga pembagian tidak bisa dilakukan, maka hasilnya **salah**. Jadi kesimpulannya, pernyataan “selalu bisa dibagi habis” hanya benar untuk semua (n) kecuali (n = 1), inilah titik “kepleset” dari pernyataan ini.\n"
      ],
      "metadata": {
        "id": "0i01KbEzNQT6"
      }
    },
    {
      "cell_type": "code",
      "source": [
        "print(\"SOAL 2: 1 + 1/2 + ... + 1/n < 2 ?\")\n",
        "print()\n",
        "print(f\"{'n':<4}{'Jumlah_Deret':>15}{'Status':>12}\")\n",
        "\n",
        "jumlah = 0.0\n",
        "n_max = 20\n",
        "first_ge2_n = None\n",
        "first_ge2_val = None\n",
        "\n",
        "for n in range(1, n_max + 1):\n",
        "    jumlah += 1/n\n",
        "    status = \"<2\" if jumlah < 2 else \">=2\"\n",
        "    print(f\"{n:<4}{jumlah:>15.3f}{status:>12}\")\n",
        "    if first_ge2_n is None and jumlah >= 2:\n",
        "        first_ge2_n = n\n",
        "        first_ge2_val = jumlah\n",
        "\n",
        "if first_ge2_n is not None:\n",
        "    print(f\"\\nDeret pertama kali >= 2 pada n = {first_ge2_n}, total ≈ {first_ge2_val:.3f}\")\n",
        "else:\n",
        "    print(f\"\\nBelum mencapai 2 hingga n = {n_max}\")"
      ],
      "metadata": {
        "colab": {
          "base_uri": "https://localhost:8080/"
        },
        "id": "W8PEE850MjBf",
        "outputId": "10ff83db-9d3e-4612-ccf7-8e4613b7eec4"
      },
      "execution_count": 15,
      "outputs": [
        {
          "output_type": "stream",
          "name": "stdout",
          "text": [
            "SOAL 2: 1 + 1/2 + ... + 1/n < 2 ?\n",
            "\n",
            "n      Jumlah_Deret      Status\n",
            "1             1.000          <2\n",
            "2             1.500          <2\n",
            "3             1.833          <2\n",
            "4             2.083         >=2\n",
            "5             2.283         >=2\n",
            "6             2.450         >=2\n",
            "7             2.593         >=2\n",
            "8             2.718         >=2\n",
            "9             2.829         >=2\n",
            "10            2.929         >=2\n",
            "11            3.020         >=2\n",
            "12            3.103         >=2\n",
            "13            3.180         >=2\n",
            "14            3.252         >=2\n",
            "15            3.318         >=2\n",
            "16            3.381         >=2\n",
            "17            3.440         >=2\n",
            "18            3.495         >=2\n",
            "19            3.548         >=2\n",
            "20            3.598         >=2\n",
            "\n",
            "Deret pertama kali >= 2 pada n = 4, total ≈ 2.083\n"
          ]
        }
      ]
    },
    {
      "cell_type": "markdown",
      "source": [
        "Penjelasan : Hasil menunjukkan bahwa jumlah deret tersebut memang **kurang dari 2** saat (n) masih kecil (misalnya n=1, 2, 3), tapi mulai **n=4** jumlahnya jadi **lebih dari 2** (sekitar 2,083) dan terus bertambah seiring bertambahnya (n). Artinya, pernyataan “selalu kurang dari 2” hanya benar untuk n kecil saja, dan “kepleset” mulai n=4 ke atas.\n"
      ],
      "metadata": {
        "id": "Nz_ImbKSNmj6"
      }
    }
  ]
}
